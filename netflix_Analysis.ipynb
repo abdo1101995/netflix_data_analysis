{
 "cells": [
  {
   "cell_type": "markdown",
   "id": "3a1382eb",
   "metadata": {},
   "source": [
    "# Import Libraries"
   ]
  },
  {
   "cell_type": "code",
   "execution_count": 1,
   "id": "9a77bf7d",
   "metadata": {},
   "outputs": [],
   "source": [
    "import pandas as pd\n",
    "import numpy as np\n",
    "import matplotlib.pyplot as plt\n",
    "import seaborn as sns\n",
    "import missingno"
   ]
  },
  {
   "cell_type": "markdown",
   "id": "27409e1a",
   "metadata": {},
   "source": [
    "# Explore Data"
   ]
  },
  {
   "cell_type": "code",
   "execution_count": 2,
   "id": "76ff074c",
   "metadata": {},
   "outputs": [
    {
     "data": {
      "text/html": [
       "<div>\n",
       "<style scoped>\n",
       "    .dataframe tbody tr th:only-of-type {\n",
       "        vertical-align: middle;\n",
       "    }\n",
       "\n",
       "    .dataframe tbody tr th {\n",
       "        vertical-align: top;\n",
       "    }\n",
       "\n",
       "    .dataframe thead th {\n",
       "        text-align: right;\n",
       "    }\n",
       "</style>\n",
       "<table border=\"1\" class=\"dataframe\">\n",
       "  <thead>\n",
       "    <tr style=\"text-align: right;\">\n",
       "      <th></th>\n",
       "      <th>show_id</th>\n",
       "      <th>type</th>\n",
       "      <th>title</th>\n",
       "      <th>director</th>\n",
       "      <th>cast</th>\n",
       "      <th>country</th>\n",
       "      <th>date_added</th>\n",
       "      <th>release_year</th>\n",
       "      <th>duration</th>\n",
       "      <th>description</th>\n",
       "      <th>genre</th>\n",
       "    </tr>\n",
       "  </thead>\n",
       "  <tbody>\n",
       "    <tr>\n",
       "      <th>0</th>\n",
       "      <td>s1</td>\n",
       "      <td>TV Show</td>\n",
       "      <td>3%</td>\n",
       "      <td>NaN</td>\n",
       "      <td>João Miguel, Bianca Comparato, Michel Gomes, R...</td>\n",
       "      <td>Brazil</td>\n",
       "      <td>August 14, 2020</td>\n",
       "      <td>2020</td>\n",
       "      <td>4</td>\n",
       "      <td>In a future where the elite inhabit an island ...</td>\n",
       "      <td>International TV</td>\n",
       "    </tr>\n",
       "    <tr>\n",
       "      <th>1</th>\n",
       "      <td>s2</td>\n",
       "      <td>Movie</td>\n",
       "      <td>7:19</td>\n",
       "      <td>Jorge Michel Grau</td>\n",
       "      <td>Demián Bichir, Héctor Bonilla, Oscar Serrano, ...</td>\n",
       "      <td>Mexico</td>\n",
       "      <td>December 23, 2016</td>\n",
       "      <td>2016</td>\n",
       "      <td>93</td>\n",
       "      <td>After a devastating earthquake hits Mexico Cit...</td>\n",
       "      <td>Dramas</td>\n",
       "    </tr>\n",
       "    <tr>\n",
       "      <th>2</th>\n",
       "      <td>s3</td>\n",
       "      <td>Movie</td>\n",
       "      <td>23:59</td>\n",
       "      <td>Gilbert Chan</td>\n",
       "      <td>Tedd Chan, Stella Chung, Henley Hii, Lawrence ...</td>\n",
       "      <td>Singapore</td>\n",
       "      <td>December 20, 2018</td>\n",
       "      <td>2011</td>\n",
       "      <td>78</td>\n",
       "      <td>When an army recruit is found dead, his fellow...</td>\n",
       "      <td>Horror Movies</td>\n",
       "    </tr>\n",
       "    <tr>\n",
       "      <th>3</th>\n",
       "      <td>s4</td>\n",
       "      <td>Movie</td>\n",
       "      <td>9</td>\n",
       "      <td>Shane Acker</td>\n",
       "      <td>Elijah Wood, John C. Reilly, Jennifer Connelly...</td>\n",
       "      <td>United States</td>\n",
       "      <td>November 16, 2017</td>\n",
       "      <td>2009</td>\n",
       "      <td>80</td>\n",
       "      <td>In a postapocalyptic world, rag-doll robots hi...</td>\n",
       "      <td>Action</td>\n",
       "    </tr>\n",
       "    <tr>\n",
       "      <th>4</th>\n",
       "      <td>s5</td>\n",
       "      <td>Movie</td>\n",
       "      <td>21</td>\n",
       "      <td>Robert Luketic</td>\n",
       "      <td>Jim Sturgess, Kevin Spacey, Kate Bosworth, Aar...</td>\n",
       "      <td>United States</td>\n",
       "      <td>January 1, 2020</td>\n",
       "      <td>2008</td>\n",
       "      <td>123</td>\n",
       "      <td>A brilliant group of students become card-coun...</td>\n",
       "      <td>Dramas</td>\n",
       "    </tr>\n",
       "  </tbody>\n",
       "</table>\n",
       "</div>"
      ],
      "text/plain": [
       "  show_id     type  title           director  \\\n",
       "0      s1  TV Show     3%                NaN   \n",
       "1      s2    Movie   7:19  Jorge Michel Grau   \n",
       "2      s3    Movie  23:59       Gilbert Chan   \n",
       "3      s4    Movie      9        Shane Acker   \n",
       "4      s5    Movie     21     Robert Luketic   \n",
       "\n",
       "                                                cast        country  \\\n",
       "0  João Miguel, Bianca Comparato, Michel Gomes, R...         Brazil   \n",
       "1  Demián Bichir, Héctor Bonilla, Oscar Serrano, ...         Mexico   \n",
       "2  Tedd Chan, Stella Chung, Henley Hii, Lawrence ...      Singapore   \n",
       "3  Elijah Wood, John C. Reilly, Jennifer Connelly...  United States   \n",
       "4  Jim Sturgess, Kevin Spacey, Kate Bosworth, Aar...  United States   \n",
       "\n",
       "          date_added  release_year  duration  \\\n",
       "0    August 14, 2020          2020         4   \n",
       "1  December 23, 2016          2016        93   \n",
       "2  December 20, 2018          2011        78   \n",
       "3  November 16, 2017          2009        80   \n",
       "4    January 1, 2020          2008       123   \n",
       "\n",
       "                                         description             genre  \n",
       "0  In a future where the elite inhabit an island ...  International TV  \n",
       "1  After a devastating earthquake hits Mexico Cit...            Dramas  \n",
       "2  When an army recruit is found dead, his fellow...     Horror Movies  \n",
       "3  In a postapocalyptic world, rag-doll robots hi...            Action  \n",
       "4  A brilliant group of students become card-coun...            Dramas  "
      ]
     },
     "execution_count": 2,
     "metadata": {},
     "output_type": "execute_result"
    }
   ],
   "source": [
    "df=pd.read_csv('netflix_data.csv')\n",
    "df.head()"
   ]
  },
  {
   "cell_type": "code",
   "execution_count": 3,
   "id": "80176159",
   "metadata": {},
   "outputs": [
    {
     "name": "stdout",
     "output_type": "stream",
     "text": [
      "<class 'pandas.core.frame.DataFrame'>\n",
      "RangeIndex: 7787 entries, 0 to 7786\n",
      "Data columns (total 11 columns):\n",
      " #   Column        Non-Null Count  Dtype \n",
      "---  ------        --------------  ----- \n",
      " 0   show_id       7787 non-null   object\n",
      " 1   type          7787 non-null   object\n",
      " 2   title         7787 non-null   object\n",
      " 3   director      5398 non-null   object\n",
      " 4   cast          7069 non-null   object\n",
      " 5   country       7280 non-null   object\n",
      " 6   date_added    7777 non-null   object\n",
      " 7   release_year  7787 non-null   int64 \n",
      " 8   duration      7787 non-null   int64 \n",
      " 9   description   7787 non-null   object\n",
      " 10  genre         7787 non-null   object\n",
      "dtypes: int64(2), object(9)\n",
      "memory usage: 669.3+ KB\n"
     ]
    }
   ],
   "source": [
    "df.info()"
   ]
  },
  {
   "cell_type": "markdown",
   "id": "b73f0700",
   "metadata": {},
   "source": [
    "Data Size(7789 rows,11columns)\n",
    "\n",
    "there are missing data in (Director,Cast,Country,Release_Date,Rating)"
   ]
  },
  {
   "cell_type": "markdown",
   "id": "03fc8b2f",
   "metadata": {},
   "source": [
    "all features object type we need convert some columns to right type\n",
    "\n",
    "Release_Date->Date\n",
    "\n",
    "\n"
   ]
  },
  {
   "cell_type": "markdown",
   "id": "5084c124",
   "metadata": {},
   "source": [
    "# Preprocessing Data"
   ]
  },
  {
   "cell_type": "code",
   "execution_count": 4,
   "id": "9d973139",
   "metadata": {},
   "outputs": [
    {
     "data": {
      "text/plain": [
       "0"
      ]
     },
     "execution_count": 4,
     "metadata": {},
     "output_type": "execute_result"
    }
   ],
   "source": [
    "df.duplicated().sum()"
   ]
  },
  {
   "cell_type": "markdown",
   "id": "24c2dcb2",
   "metadata": {},
   "source": [
    "There are no duplicated row in datasets"
   ]
  },
  {
   "cell_type": "code",
   "execution_count": 5,
   "id": "0d03cb32",
   "metadata": {},
   "outputs": [
    {
     "data": {
      "text/plain": [
       "show_id            0\n",
       "type               0\n",
       "title              0\n",
       "director        2389\n",
       "cast             718\n",
       "country          507\n",
       "date_added        10\n",
       "release_year       0\n",
       "duration           0\n",
       "description        0\n",
       "genre              0\n",
       "dtype: int64"
      ]
     },
     "execution_count": 5,
     "metadata": {},
     "output_type": "execute_result"
    }
   ],
   "source": [
    "df.isnull().sum()"
   ]
  },
  {
   "cell_type": "markdown",
   "id": "302d20cb",
   "metadata": {},
   "source": [
    "Director column have many missing value 2388"
   ]
  },
  {
   "cell_type": "code",
   "execution_count": 6,
   "id": "d2f177eb",
   "metadata": {},
   "outputs": [
    {
     "data": {
      "image/png": "[encoded data removed]",
      "text/plain": [
       "<Figure size 1800x720 with 2 Axes>"
      ]
     },
     "metadata": {
      "needs_background": "light"
     },
     "output_type": "display_data"
    }
   ],
   "source": [
    "#check missing data by missingno\n",
    "missingno.matrix(df)\n",
    "plt.show()"
   ]
  },
  {
   "cell_type": "markdown",
   "id": "e6d55a29",
   "metadata": {},
   "source": [
    "# EDA"
   ]
  },
  {
   "cell_type": "markdown",
   "id": "99a53fa9",
   "metadata": {},
   "source": [
    "# Q:what the most year in netflix app?"
   ]
  },
  {
   "cell_type": "code",
   "execution_count": 7,
   "id": "9c316e42",
   "metadata": {},
   "outputs": [],
   "source": [
    "year_top_10=pd.DataFrame(df.release_year.value_counts()[:10]).reset_index()\n",
    "year_top_10.columns=['year','count']"
   ]
  },
  {
   "cell_type": "code",
   "execution_count": 8,
   "id": "dd61ce75",
   "metadata": {},
   "outputs": [
    {
     "data": {
      "text/plain": [
       "<bound method DataFrame.sort_values of    year  count\n",
       "0  2018   1121\n",
       "1  2017   1012\n",
       "2  2019    996\n",
       "3  2016    882\n",
       "4  2020    868\n",
       "5  2015    541\n",
       "6  2014    334\n",
       "7  2013    267\n",
       "8  2012    219\n",
       "9  2010    173>"
      ]
     },
     "execution_count": 8,
     "metadata": {},
     "output_type": "execute_result"
    }
   ],
   "source": [
    "year_top_10.sort_values"
   ]
  },
  {
   "cell_type": "code",
   "execution_count": 9,
   "id": "2119cb30",
   "metadata": {},
   "outputs": [
    {
     "data": {
      "image/png": "[encoded data removed]",
      "text/plain": [
       "<Figure size 864x864 with 1 Axes>"
      ]
     },
     "metadata": {
      "needs_background": "light"
     },
     "output_type": "display_data"
    }
   ],
   "source": [
    "plt.figure(figsize=(12,12))\n",
    "sns.barplot(x='year',y='count',data=year_top_10,order=year_top_10.year.value_counts().index)\n",
    "plt.xticks(rotation = 90)\n",
    "plt.title(\"top_year_movie\")\n",
    "plt.show()"
   ]
  },
  {
   "cell_type": "markdown",
   "id": "e1394fd2",
   "metadata": {},
   "source": [
    "there are growth in 2016 "
   ]
  },
  {
   "cell_type": "markdown",
   "id": "306fc19d",
   "metadata": {},
   "source": [
    "# Q:what is the change in duration over years?\n"
   ]
  },
  {
   "cell_type": "code",
   "execution_count": 10,
   "id": "0fecdd3a",
   "metadata": {},
   "outputs": [],
   "source": [
    "df_tv_show=df[df['type']=='TV Show']\n",
    "df_tv_movie=df[df['type']=='Movie']"
   ]
  },
  {
   "cell_type": "code",
   "execution_count": 11,
   "id": "f5187e77",
   "metadata": {},
   "outputs": [],
   "source": [
    "duration_year_show=pd.DataFrame(df_tv_show.groupby('release_year')['duration'].mean()).reset_index()\n",
    "duration_year_movie=pd.DataFrame(df_tv_movie.groupby('release_year')['duration'].mean()).reset_index()\n",
    "duration_year_show.columns=['year','avg_duration']\n",
    "duration_year_movie.columns=['year','avg_duration']"
   ]
  },
  {
   "cell_type": "code",
   "execution_count": 12,
   "id": "f7c437d7",
   "metadata": {},
   "outputs": [
    {
     "data": {
      "image/png": "[encoded data removed]",
      "text/plain": [
       "<Figure size 720x576 with 1 Axes>"
      ]
     },
     "metadata": {
      "needs_background": "light"
     },
     "output_type": "display_data"
    }
   ],
   "source": [
    "plt.figure(figsize=(10,8))\n",
    "plt.plot(duration_year_show['year'],duration_year_show['avg_duration'],color='r',label='tv_show')\n",
    "plt.plot(duration_year_movie['year'],duration_year_movie['avg_duration'],color='g',label='movie')\n",
    "\n",
    "# Create a title\n",
    "plt.title(\"Average Duration over years\")\n",
    "plt.legend()\n",
    "# Show the plot\n",
    "plt.show()"
   ]
  },
  {
   "cell_type": "markdown",
   "id": "0bfc160c",
   "metadata": {},
   "source": [
    "the movies in 60s exceeds 200 mins\n",
    "\n",
    "the duration of movies after 1970 still decrease until 2020"
   ]
  },
  {
   "cell_type": "markdown",
   "id": "09a99bec",
   "metadata": {},
   "source": [
    "Q3:which tv type has max duration?"
   ]
  },
  {
   "cell_type": "code",
   "execution_count": 13,
   "id": "9d9c5735",
   "metadata": {},
   "outputs": [
    {
     "data": {
      "text/plain": [
       "Movie      5377\n",
       "TV Show    2410\n",
       "Name: type, dtype: int64"
      ]
     },
     "execution_count": 13,
     "metadata": {},
     "output_type": "execute_result"
    }
   ],
   "source": [
    "df['type'].value_counts()"
   ]
  },
  {
   "cell_type": "code",
   "execution_count": 14,
   "id": "491dfc28",
   "metadata": {},
   "outputs": [
    {
     "data": {
      "image/png": "[encoded data removed]",
      "text/plain": [
       "<Figure size 576x432 with 1 Axes>"
      ]
     },
     "metadata": {
      "needs_background": "light"
     },
     "output_type": "display_data"
    }
   ],
   "source": [
    "plt.figure(figsize=(8,6))\n",
    "sns.barplot(x='type',y='duration',data=df)\n",
    "plt.title(\"Type_tv vs duration\")\n",
    "plt.show()"
   ]
  },
  {
   "cell_type": "markdown",
   "id": "4ec95571",
   "metadata": {},
   "source": [
    "# Q4:Which country has more movie?"
   ]
  },
  {
   "cell_type": "code",
   "execution_count": 15,
   "id": "f55f4c79",
   "metadata": {},
   "outputs": [],
   "source": [
    "country_count=pd.DataFrame(df.groupby('country')['show_id'].count()).reset_index()\n",
    "country_count.columns=['country','count']"
   ]
  },
  {
   "cell_type": "code",
   "execution_count": 16,
   "id": "45536b7f",
   "metadata": {},
   "outputs": [],
   "source": [
    "Top_10_country=country_count.sort_values('count',ascending=False)[:10]"
   ]
  },
  {
   "cell_type": "code",
   "execution_count": 17,
   "id": "7e916e36",
   "metadata": {},
   "outputs": [
    {
     "data": {
      "image/png": "[encoded data removed]",
      "text/plain": [
       "<Figure size 864x576 with 1 Axes>"
      ]
     },
     "metadata": {
      "needs_background": "light"
     },
     "output_type": "display_data"
    }
   ],
   "source": [
    "plt.figure(figsize=(12,8))\n",
    "sns.barplot(x='country',y='count',data=Top_10_country)\n",
    "plt.xticks(rotation = 90)\n",
    "plt.title(\"top_10_country\")\n",
    "plt.show()"
   ]
  },
  {
   "cell_type": "markdown",
   "id": "42afe512",
   "metadata": {},
   "source": [
    "# Q5:change duration depend on  genre?"
   ]
  },
  {
   "cell_type": "code",
   "execution_count": 18,
   "id": "419b2c21",
   "metadata": {},
   "outputs": [
    {
     "data": {
      "text/plain": [
       "Dramas              1384\n",
       "Comedies            1074\n",
       "Documentaries        751\n",
       "Action               721\n",
       "International TV     690\n",
       "Name: genre, dtype: int64"
      ]
     },
     "execution_count": 18,
     "metadata": {},
     "output_type": "execute_result"
    }
   ],
   "source": [
    "df['genre'].value_counts()[:5]"
   ]
  },
  {
   "cell_type": "code",
   "execution_count": 19,
   "id": "62ba0448",
   "metadata": {},
   "outputs": [],
   "source": [
    "genre_duration=pd.DataFrame(df.groupby('genre')['duration'].mean()).reset_index()\n",
    "\n",
    "genre_duration.columns=['genre','avg']\n",
    "genre_duration=genre_duration.sort_values('avg',ascending=False)"
   ]
  },
  {
   "cell_type": "code",
   "execution_count": 20,
   "id": "12a57aae",
   "metadata": {},
   "outputs": [
    {
     "data": {
      "image/png": "[encoded data removed]",
      "text/plain": [
       "<Figure size 864x576 with 1 Axes>"
      ]
     },
     "metadata": {
      "needs_background": "light"
     },
     "output_type": "display_data"
    }
   ],
   "source": [
    "plt.figure(figsize=(12,8))\n",
    "sns.barplot(x='genre',y='avg',data=genre_duration)\n",
    "plt.xticks(rotation = 90)\n",
    "plt.title(\"genre vs avg_duration\")\n",
    "plt.show()"
   ]
  },
  {
   "cell_type": "markdown",
   "id": "259dfdc7",
   "metadata": {},
   "source": [
    "# Q:6 which movie has duration less than 60?"
   ]
  },
  {
   "cell_type": "code",
   "execution_count": 21,
   "id": "44e7cf65",
   "metadata": {},
   "outputs": [
    {
     "data": {
      "text/html": [
       "<div>\n",
       "<style scoped>\n",
       "    .dataframe tbody tr th:only-of-type {\n",
       "        vertical-align: middle;\n",
       "    }\n",
       "\n",
       "    .dataframe tbody tr th {\n",
       "        vertical-align: top;\n",
       "    }\n",
       "\n",
       "    .dataframe thead th {\n",
       "        text-align: right;\n",
       "    }\n",
       "</style>\n",
       "<table border=\"1\" class=\"dataframe\">\n",
       "  <thead>\n",
       "    <tr style=\"text-align: right;\">\n",
       "      <th></th>\n",
       "      <th>show_id</th>\n",
       "      <th>type</th>\n",
       "      <th>title</th>\n",
       "      <th>director</th>\n",
       "      <th>cast</th>\n",
       "      <th>country</th>\n",
       "      <th>date_added</th>\n",
       "      <th>release_year</th>\n",
       "      <th>duration</th>\n",
       "      <th>description</th>\n",
       "      <th>genre</th>\n",
       "    </tr>\n",
       "  </thead>\n",
       "  <tbody>\n",
       "    <tr>\n",
       "      <th>35</th>\n",
       "      <td>s36</td>\n",
       "      <td>Movie</td>\n",
       "      <td>#Rucker50</td>\n",
       "      <td>Robert McCullough Jr.</td>\n",
       "      <td>NaN</td>\n",
       "      <td>United States</td>\n",
       "      <td>December 1, 2016</td>\n",
       "      <td>2016</td>\n",
       "      <td>56</td>\n",
       "      <td>This documentary celebrates the 50th anniversa...</td>\n",
       "      <td>Documentaries</td>\n",
       "    </tr>\n",
       "    <tr>\n",
       "      <th>55</th>\n",
       "      <td>s56</td>\n",
       "      <td>Movie</td>\n",
       "      <td>100 Things to do Before High School</td>\n",
       "      <td>NaN</td>\n",
       "      <td>Isabela Moner, Jaheem Toombs, Owen Joyner, Jac...</td>\n",
       "      <td>United States</td>\n",
       "      <td>November 2, 2019</td>\n",
       "      <td>2014</td>\n",
       "      <td>44</td>\n",
       "      <td>Led by seventh-grader C.J., three students who...</td>\n",
       "      <td>Uncategorized</td>\n",
       "    </tr>\n",
       "    <tr>\n",
       "      <th>67</th>\n",
       "      <td>s68</td>\n",
       "      <td>Movie</td>\n",
       "      <td>13TH: A Conversation with Oprah Winfrey &amp; Ava ...</td>\n",
       "      <td>NaN</td>\n",
       "      <td>Oprah Winfrey, Ava DuVernay</td>\n",
       "      <td>NaN</td>\n",
       "      <td>January 26, 2017</td>\n",
       "      <td>2017</td>\n",
       "      <td>37</td>\n",
       "      <td>Oprah Winfrey sits down with director Ava DuVe...</td>\n",
       "      <td>Uncategorized</td>\n",
       "    </tr>\n",
       "    <tr>\n",
       "      <th>101</th>\n",
       "      <td>s102</td>\n",
       "      <td>Movie</td>\n",
       "      <td>3 Seconds Divorce</td>\n",
       "      <td>Shazia Javed</td>\n",
       "      <td>NaN</td>\n",
       "      <td>Canada</td>\n",
       "      <td>June 15, 2019</td>\n",
       "      <td>2018</td>\n",
       "      <td>53</td>\n",
       "      <td>A Muslim women's activist group in India prote...</td>\n",
       "      <td>Documentaries</td>\n",
       "    </tr>\n",
       "    <tr>\n",
       "      <th>146</th>\n",
       "      <td>s147</td>\n",
       "      <td>Movie</td>\n",
       "      <td>A 3 Minute Hug</td>\n",
       "      <td>Everardo González</td>\n",
       "      <td>NaN</td>\n",
       "      <td>Mexico</td>\n",
       "      <td>October 28, 2019</td>\n",
       "      <td>2019</td>\n",
       "      <td>28</td>\n",
       "      <td>This documentary captures the joy and heartbre...</td>\n",
       "      <td>Documentaries</td>\n",
       "    </tr>\n",
       "    <tr>\n",
       "      <th>...</th>\n",
       "      <td>...</td>\n",
       "      <td>...</td>\n",
       "      <td>...</td>\n",
       "      <td>...</td>\n",
       "      <td>...</td>\n",
       "      <td>...</td>\n",
       "      <td>...</td>\n",
       "      <td>...</td>\n",
       "      <td>...</td>\n",
       "      <td>...</td>\n",
       "      <td>...</td>\n",
       "    </tr>\n",
       "    <tr>\n",
       "      <th>7679</th>\n",
       "      <td>s7680</td>\n",
       "      <td>Movie</td>\n",
       "      <td>WWII: Report from the Aleutians</td>\n",
       "      <td>John Huston</td>\n",
       "      <td>NaN</td>\n",
       "      <td>United States</td>\n",
       "      <td>March 31, 2017</td>\n",
       "      <td>1943</td>\n",
       "      <td>45</td>\n",
       "      <td>Filmmaker John Huston narrates this Oscar-nomi...</td>\n",
       "      <td>Documentaries</td>\n",
       "    </tr>\n",
       "    <tr>\n",
       "      <th>7692</th>\n",
       "      <td>s7693</td>\n",
       "      <td>Movie</td>\n",
       "      <td>Ya no estoy aquí: Una conversación entre Guill...</td>\n",
       "      <td>NaN</td>\n",
       "      <td>Guillermo del Toro, Alfonso Cuarón</td>\n",
       "      <td>NaN</td>\n",
       "      <td>November 3, 2020</td>\n",
       "      <td>2020</td>\n",
       "      <td>15</td>\n",
       "      <td>Guillermo del Toro and Alfonso Cuarón discuss ...</td>\n",
       "      <td>Documentaries</td>\n",
       "    </tr>\n",
       "    <tr>\n",
       "      <th>7718</th>\n",
       "      <td>s7719</td>\n",
       "      <td>Movie</td>\n",
       "      <td>Yoo Byung Jae: Discomfort Zone</td>\n",
       "      <td>Y. Joon Chung</td>\n",
       "      <td>Yoo Byung Jae</td>\n",
       "      <td>South Korea</td>\n",
       "      <td>August 17, 2018</td>\n",
       "      <td>2018</td>\n",
       "      <td>54</td>\n",
       "      <td>Daring comedian Yoo Byung-jae connects critici...</td>\n",
       "      <td>Stand-Up</td>\n",
       "    </tr>\n",
       "    <tr>\n",
       "      <th>7771</th>\n",
       "      <td>s7772</td>\n",
       "      <td>Movie</td>\n",
       "      <td>Zion</td>\n",
       "      <td>Floyd Russ</td>\n",
       "      <td>Zion Clark</td>\n",
       "      <td>United States</td>\n",
       "      <td>August 10, 2018</td>\n",
       "      <td>2018</td>\n",
       "      <td>12</td>\n",
       "      <td>Born without legs and stuck in foster care for...</td>\n",
       "      <td>Documentaries</td>\n",
       "    </tr>\n",
       "    <tr>\n",
       "      <th>7784</th>\n",
       "      <td>s7785</td>\n",
       "      <td>Movie</td>\n",
       "      <td>Zulu Man in Japan</td>\n",
       "      <td>NaN</td>\n",
       "      <td>Nasty C</td>\n",
       "      <td>NaN</td>\n",
       "      <td>September 25, 2020</td>\n",
       "      <td>2019</td>\n",
       "      <td>44</td>\n",
       "      <td>In this documentary, South African rapper Nast...</td>\n",
       "      <td>Documentaries</td>\n",
       "    </tr>\n",
       "  </tbody>\n",
       "</table>\n",
       "<p>420 rows × 11 columns</p>\n",
       "</div>"
      ],
      "text/plain": [
       "     show_id   type                                              title  \\\n",
       "35       s36  Movie                                          #Rucker50   \n",
       "55       s56  Movie                100 Things to do Before High School   \n",
       "67       s68  Movie  13TH: A Conversation with Oprah Winfrey & Ava ...   \n",
       "101     s102  Movie                                  3 Seconds Divorce   \n",
       "146     s147  Movie                                     A 3 Minute Hug   \n",
       "...      ...    ...                                                ...   \n",
       "7679   s7680  Movie                    WWII: Report from the Aleutians   \n",
       "7692   s7693  Movie  Ya no estoy aquí: Una conversación entre Guill...   \n",
       "7718   s7719  Movie                     Yoo Byung Jae: Discomfort Zone   \n",
       "7771   s7772  Movie                                               Zion   \n",
       "7784   s7785  Movie                                  Zulu Man in Japan   \n",
       "\n",
       "                   director  \\\n",
       "35    Robert McCullough Jr.   \n",
       "55                      NaN   \n",
       "67                      NaN   \n",
       "101            Shazia Javed   \n",
       "146       Everardo González   \n",
       "...                     ...   \n",
       "7679            John Huston   \n",
       "7692                    NaN   \n",
       "7718          Y. Joon Chung   \n",
       "7771             Floyd Russ   \n",
       "7784                    NaN   \n",
       "\n",
       "                                                   cast        country  \\\n",
       "35                                                  NaN  United States   \n",
       "55    Isabela Moner, Jaheem Toombs, Owen Joyner, Jac...  United States   \n",
       "67                          Oprah Winfrey, Ava DuVernay            NaN   \n",
       "101                                                 NaN         Canada   \n",
       "146                                                 NaN         Mexico   \n",
       "...                                                 ...            ...   \n",
       "7679                                                NaN  United States   \n",
       "7692                 Guillermo del Toro, Alfonso Cuarón            NaN   \n",
       "7718                                      Yoo Byung Jae    South Korea   \n",
       "7771                                         Zion Clark  United States   \n",
       "7784                                            Nasty C            NaN   \n",
       "\n",
       "              date_added  release_year  duration  \\\n",
       "35      December 1, 2016          2016        56   \n",
       "55      November 2, 2019          2014        44   \n",
       "67      January 26, 2017          2017        37   \n",
       "101        June 15, 2019          2018        53   \n",
       "146     October 28, 2019          2019        28   \n",
       "...                  ...           ...       ...   \n",
       "7679      March 31, 2017          1943        45   \n",
       "7692    November 3, 2020          2020        15   \n",
       "7718     August 17, 2018          2018        54   \n",
       "7771     August 10, 2018          2018        12   \n",
       "7784  September 25, 2020          2019        44   \n",
       "\n",
       "                                            description          genre  \n",
       "35    This documentary celebrates the 50th anniversa...  Documentaries  \n",
       "55    Led by seventh-grader C.J., three students who...  Uncategorized  \n",
       "67    Oprah Winfrey sits down with director Ava DuVe...  Uncategorized  \n",
       "101   A Muslim women's activist group in India prote...  Documentaries  \n",
       "146   This documentary captures the joy and heartbre...  Documentaries  \n",
       "...                                                 ...            ...  \n",
       "7679  Filmmaker John Huston narrates this Oscar-nomi...  Documentaries  \n",
       "7692  Guillermo del Toro and Alfonso Cuarón discuss ...  Documentaries  \n",
       "7718  Daring comedian Yoo Byung-jae connects critici...       Stand-Up  \n",
       "7771  Born without legs and stuck in foster care for...  Documentaries  \n",
       "7784  In this documentary, South African rapper Nast...  Documentaries  \n",
       "\n",
       "[420 rows x 11 columns]"
      ]
     },
     "execution_count": 21,
     "metadata": {},
     "output_type": "execute_result"
    }
   ],
   "source": [
    "movie_less_60=df_tv_movie[df_tv_movie['duration']<60]\n",
    "movie_less_60"
   ]
  },
  {
   "cell_type": "code",
   "execution_count": 22,
   "id": "0c12a148",
   "metadata": {},
   "outputs": [
    {
     "data": {
      "image/png": "[encoded data removed]",
      "text/plain": [
       "<Figure size 864x576 with 1 Axes>"
      ]
     },
     "metadata": {
      "needs_background": "light"
     },
     "output_type": "display_data"
    }
   ],
   "source": [
    "plt.figure(figsize=(12,8))\n",
    "sns.countplot(x='genre',data=movie_less_60,order =movie_less_60['genre'].value_counts().index)\n",
    "plt.xticks(rotation = 90)\n",
    "plt.title(\"Count genre that movie less than 60\")\n",
    "plt.show()"
   ]
  },
  {
   "cell_type": "markdown",
   "id": "a67d01ef",
   "metadata": {},
   "source": [
    "# Q7:which movie has more than 120 min?"
   ]
  },
  {
   "cell_type": "code",
   "execution_count": 23,
   "id": "f206c4a3",
   "metadata": {},
   "outputs": [
    {
     "data": {
      "text/html": [
       "<div>\n",
       "<style scoped>\n",
       "    .dataframe tbody tr th:only-of-type {\n",
       "        vertical-align: middle;\n",
       "    }\n",
       "\n",
       "    .dataframe tbody tr th {\n",
       "        vertical-align: top;\n",
       "    }\n",
       "\n",
       "    .dataframe thead th {\n",
       "        text-align: right;\n",
       "    }\n",
       "</style>\n",
       "<table border=\"1\" class=\"dataframe\">\n",
       "  <thead>\n",
       "    <tr style=\"text-align: right;\">\n",
       "      <th></th>\n",
       "      <th>show_id</th>\n",
       "      <th>type</th>\n",
       "      <th>title</th>\n",
       "      <th>director</th>\n",
       "      <th>cast</th>\n",
       "      <th>country</th>\n",
       "      <th>date_added</th>\n",
       "      <th>release_year</th>\n",
       "      <th>duration</th>\n",
       "      <th>description</th>\n",
       "      <th>genre</th>\n",
       "    </tr>\n",
       "  </thead>\n",
       "  <tbody>\n",
       "    <tr>\n",
       "      <th>4</th>\n",
       "      <td>s5</td>\n",
       "      <td>Movie</td>\n",
       "      <td>21</td>\n",
       "      <td>Robert Luketic</td>\n",
       "      <td>Jim Sturgess, Kevin Spacey, Kate Bosworth, Aar...</td>\n",
       "      <td>United States</td>\n",
       "      <td>January 1, 2020</td>\n",
       "      <td>2008</td>\n",
       "      <td>123</td>\n",
       "      <td>A brilliant group of students become card-coun...</td>\n",
       "      <td>Dramas</td>\n",
       "    </tr>\n",
       "    <tr>\n",
       "      <th>9</th>\n",
       "      <td>s10</td>\n",
       "      <td>Movie</td>\n",
       "      <td>1920</td>\n",
       "      <td>Vikram Bhatt</td>\n",
       "      <td>Rajneesh Duggal, Adah Sharma, Indraneil Sengup...</td>\n",
       "      <td>India</td>\n",
       "      <td>December 15, 2017</td>\n",
       "      <td>2008</td>\n",
       "      <td>143</td>\n",
       "      <td>An architect and his wife move into a castle t...</td>\n",
       "      <td>Horror Movies</td>\n",
       "    </tr>\n",
       "    <tr>\n",
       "      <th>15</th>\n",
       "      <td>s16</td>\n",
       "      <td>Movie</td>\n",
       "      <td>Oct-01</td>\n",
       "      <td>Kunle Afolayan</td>\n",
       "      <td>Sadiq Daba, David Bailie, Kayode Olaiya, Kehin...</td>\n",
       "      <td>Nigeria</td>\n",
       "      <td>September 1, 2019</td>\n",
       "      <td>2014</td>\n",
       "      <td>149</td>\n",
       "      <td>Against the backdrop of Nigeria's looming inde...</td>\n",
       "      <td>Dramas</td>\n",
       "    </tr>\n",
       "    <tr>\n",
       "      <th>17</th>\n",
       "      <td>s18</td>\n",
       "      <td>Movie</td>\n",
       "      <td>22-Jul</td>\n",
       "      <td>Paul Greengrass</td>\n",
       "      <td>Anders Danielsen Lie, Jon Øigarden, Jonas Stra...</td>\n",
       "      <td>Norway</td>\n",
       "      <td>October 10, 2018</td>\n",
       "      <td>2018</td>\n",
       "      <td>144</td>\n",
       "      <td>After devastating terror attacks in Norway, a ...</td>\n",
       "      <td>Dramas</td>\n",
       "    </tr>\n",
       "    <tr>\n",
       "      <th>18</th>\n",
       "      <td>s19</td>\n",
       "      <td>Movie</td>\n",
       "      <td>15-Aug</td>\n",
       "      <td>Swapnaneel Jayakar</td>\n",
       "      <td>Rahul Pethe, Mrunmayee Deshpande, Adinath Koth...</td>\n",
       "      <td>India</td>\n",
       "      <td>March 29, 2019</td>\n",
       "      <td>2019</td>\n",
       "      <td>124</td>\n",
       "      <td>On India's Independence Day, a zany mishap in ...</td>\n",
       "      <td>Comedies</td>\n",
       "    </tr>\n",
       "    <tr>\n",
       "      <th>...</th>\n",
       "      <td>...</td>\n",
       "      <td>...</td>\n",
       "      <td>...</td>\n",
       "      <td>...</td>\n",
       "      <td>...</td>\n",
       "      <td>...</td>\n",
       "      <td>...</td>\n",
       "      <td>...</td>\n",
       "      <td>...</td>\n",
       "      <td>...</td>\n",
       "      <td>...</td>\n",
       "    </tr>\n",
       "    <tr>\n",
       "      <th>7762</th>\n",
       "      <td>s7763</td>\n",
       "      <td>Movie</td>\n",
       "      <td>Zed Plus</td>\n",
       "      <td>Chandra Prakash Dwivedi</td>\n",
       "      <td>Adil Hussain, Mona Singh, K.K. Raina, Sanjay M...</td>\n",
       "      <td>India</td>\n",
       "      <td>December 31, 2019</td>\n",
       "      <td>2014</td>\n",
       "      <td>131</td>\n",
       "      <td>A philandering small-town mechanic's political...</td>\n",
       "      <td>Comedies</td>\n",
       "    </tr>\n",
       "    <tr>\n",
       "      <th>7764</th>\n",
       "      <td>s7765</td>\n",
       "      <td>Movie</td>\n",
       "      <td>Zero</td>\n",
       "      <td>Aanand Rai</td>\n",
       "      <td>Shah Rukh Khan, Anushka Sharma, Katrina Kaif, ...</td>\n",
       "      <td>India</td>\n",
       "      <td>May 21, 2019</td>\n",
       "      <td>2018</td>\n",
       "      <td>159</td>\n",
       "      <td>Through his relationships with two wildly diff...</td>\n",
       "      <td>Comedies</td>\n",
       "    </tr>\n",
       "    <tr>\n",
       "      <th>7768</th>\n",
       "      <td>s7769</td>\n",
       "      <td>Movie</td>\n",
       "      <td>Zindagi Kitni Haseen Hay</td>\n",
       "      <td>Anjum Shahzad</td>\n",
       "      <td>Feroze Khan, Sajal Ali, Jibrayl Ahmed Rajput, ...</td>\n",
       "      <td>Pakistan</td>\n",
       "      <td>October 1, 2018</td>\n",
       "      <td>2016</td>\n",
       "      <td>126</td>\n",
       "      <td>Two young parents struggle to keep their marri...</td>\n",
       "      <td>Dramas</td>\n",
       "    </tr>\n",
       "    <tr>\n",
       "      <th>7769</th>\n",
       "      <td>s7770</td>\n",
       "      <td>Movie</td>\n",
       "      <td>Zindagi Na Milegi Dobara</td>\n",
       "      <td>Zoya Akhtar</td>\n",
       "      <td>Hrithik Roshan, Abhay Deol, Farhan Akhtar, Kat...</td>\n",
       "      <td>India</td>\n",
       "      <td>December 15, 2019</td>\n",
       "      <td>2011</td>\n",
       "      <td>154</td>\n",
       "      <td>Three friends on an adventurous road trip/bach...</td>\n",
       "      <td>Comedies</td>\n",
       "    </tr>\n",
       "    <tr>\n",
       "      <th>7774</th>\n",
       "      <td>s7775</td>\n",
       "      <td>Movie</td>\n",
       "      <td>Zodiac</td>\n",
       "      <td>David Fincher</td>\n",
       "      <td>Mark Ruffalo, Jake Gyllenhaal, Robert Downey J...</td>\n",
       "      <td>United States</td>\n",
       "      <td>November 20, 2019</td>\n",
       "      <td>2007</td>\n",
       "      <td>158</td>\n",
       "      <td>A political cartoonist, a crime reporter and a...</td>\n",
       "      <td>Cult Movies</td>\n",
       "    </tr>\n",
       "  </tbody>\n",
       "</table>\n",
       "<p>1011 rows × 11 columns</p>\n",
       "</div>"
      ],
      "text/plain": [
       "     show_id   type                     title                 director  \\\n",
       "4         s5  Movie                        21           Robert Luketic   \n",
       "9        s10  Movie                      1920             Vikram Bhatt   \n",
       "15       s16  Movie                    Oct-01           Kunle Afolayan   \n",
       "17       s18  Movie                    22-Jul          Paul Greengrass   \n",
       "18       s19  Movie                    15-Aug       Swapnaneel Jayakar   \n",
       "...      ...    ...                       ...                      ...   \n",
       "7762   s7763  Movie                  Zed Plus  Chandra Prakash Dwivedi   \n",
       "7764   s7765  Movie                      Zero               Aanand Rai   \n",
       "7768   s7769  Movie  Zindagi Kitni Haseen Hay            Anjum Shahzad   \n",
       "7769   s7770  Movie  Zindagi Na Milegi Dobara              Zoya Akhtar   \n",
       "7774   s7775  Movie                    Zodiac            David Fincher   \n",
       "\n",
       "                                                   cast        country  \\\n",
       "4     Jim Sturgess, Kevin Spacey, Kate Bosworth, Aar...  United States   \n",
       "9     Rajneesh Duggal, Adah Sharma, Indraneil Sengup...          India   \n",
       "15    Sadiq Daba, David Bailie, Kayode Olaiya, Kehin...        Nigeria   \n",
       "17    Anders Danielsen Lie, Jon Øigarden, Jonas Stra...         Norway   \n",
       "18    Rahul Pethe, Mrunmayee Deshpande, Adinath Koth...          India   \n",
       "...                                                 ...            ...   \n",
       "7762  Adil Hussain, Mona Singh, K.K. Raina, Sanjay M...          India   \n",
       "7764  Shah Rukh Khan, Anushka Sharma, Katrina Kaif, ...          India   \n",
       "7768  Feroze Khan, Sajal Ali, Jibrayl Ahmed Rajput, ...       Pakistan   \n",
       "7769  Hrithik Roshan, Abhay Deol, Farhan Akhtar, Kat...          India   \n",
       "7774  Mark Ruffalo, Jake Gyllenhaal, Robert Downey J...  United States   \n",
       "\n",
       "             date_added  release_year  duration  \\\n",
       "4       January 1, 2020          2008       123   \n",
       "9     December 15, 2017          2008       143   \n",
       "15    September 1, 2019          2014       149   \n",
       "17     October 10, 2018          2018       144   \n",
       "18       March 29, 2019          2019       124   \n",
       "...                 ...           ...       ...   \n",
       "7762  December 31, 2019          2014       131   \n",
       "7764       May 21, 2019          2018       159   \n",
       "7768    October 1, 2018          2016       126   \n",
       "7769  December 15, 2019          2011       154   \n",
       "7774  November 20, 2019          2007       158   \n",
       "\n",
       "                                            description          genre  \n",
       "4     A brilliant group of students become card-coun...         Dramas  \n",
       "9     An architect and his wife move into a castle t...  Horror Movies  \n",
       "15    Against the backdrop of Nigeria's looming inde...         Dramas  \n",
       "17    After devastating terror attacks in Norway, a ...         Dramas  \n",
       "18    On India's Independence Day, a zany mishap in ...       Comedies  \n",
       "...                                                 ...            ...  \n",
       "7762  A philandering small-town mechanic's political...       Comedies  \n",
       "7764  Through his relationships with two wildly diff...       Comedies  \n",
       "7768  Two young parents struggle to keep their marri...         Dramas  \n",
       "7769  Three friends on an adventurous road trip/bach...       Comedies  \n",
       "7774  A political cartoonist, a crime reporter and a...    Cult Movies  \n",
       "\n",
       "[1011 rows x 11 columns]"
      ]
     },
     "execution_count": 23,
     "metadata": {},
     "output_type": "execute_result"
    }
   ],
   "source": [
    "movie_more_120=df_tv_movie[df_tv_movie['duration']>120]\n",
    "movie_more_120"
   ]
  },
  {
   "cell_type": "code",
   "execution_count": 24,
   "id": "8d98de79",
   "metadata": {},
   "outputs": [
    {
     "data": {
      "image/png": "[encoded data removed]",
      "text/plain": [
       "<Figure size 864x576 with 1 Axes>"
      ]
     },
     "metadata": {
      "needs_background": "light"
     },
     "output_type": "display_data"
    }
   ],
   "source": [
    "plt.figure(figsize=(12,8))\n",
    "sns.countplot(x='genre',data=movie_more_120,order =movie_more_120['genre'].value_counts().index)\n",
    "plt.xticks(rotation = 90)\n",
    "plt.title(\"Count genre that movie less than 60\")\n",
    "plt.show()"
   ]
  },
  {
   "cell_type": "code",
   "execution_count": null,
   "id": "03fbc8cf",
   "metadata": {},
   "outputs": [],
   "source": []
  }
 ],
 "metadata": {
  "kernelspec": {
   "display_name": "Python 3 (ipykernel)",
   "language": "python",
   "name": "python3"
  },
  "language_info": {
   "codemirror_mode": {
    "name": "ipython",
    "version": 3
   },
   "file_extension": ".py",
   "mimetype": "text/x-python",
   "name": "python",
   "nbconvert_exporter": "python",
   "pygments_lexer": "ipython3",
   "version": "3.9.7"
  }
 },
 "nbformat": 4,
 "nbformat_minor": 5
}
